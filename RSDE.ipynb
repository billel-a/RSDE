{
  "nbformat": 4,
  "nbformat_minor": 0,
  "metadata": {
    "colab": {
      "provenance": []
    },
    "kernelspec": {
      "name": "python3",
      "display_name": "Python 3"
    },
    "language_info": {
      "name": "python"
    }
  },
  "cells": [
    {
      "cell_type": "code",
      "execution_count": null,
      "metadata": {
        "id": "cLwlFaVaj3ZS"
      },
      "outputs": [],
      "source": [
        "import numpy as np\n",
        "from sklearn.neighbors import NearestNeighbors\n",
        "from sklearn.preprocessing import normalize\n",
        "def RSDE(W, k=2, lambda_val=0.01, maxiter=100 , labels = None , only_show_last = True):\n",
        "    nn, mm = W.shape\n",
        "\n",
        "    # Initialization\n",
        "    B = np.random.rand(nn, k)\n",
        "    M = np.random.rand(nn, k)\n",
        "    Q = np.eye(k)\n",
        "\n",
        "    for i in range(maxiter):\n",
        "        # Update G\n",
        "        G = calculateG(B, Q, 0, 1)\n",
        "\n",
        "        # Update B\n",
        "        AB = np.dot(W, M) + lambda_val * np.dot(G, Q)\n",
        "        LB, bb, RB = np.linalg.svd(AB, full_matrices=False)\n",
        "        B = np.dot(LB, RB)\n",
        "        \n",
        "        if (not(labels is None)):\n",
        "            if (not only_show_last) or (i == maxiter-1):\n",
        "                # Create a scatter plot of the PCA-transformed data\n",
        "                plt.scatter(B[:, 0], B[:, 1], c=labels, cmap='viridis')\n",
        "                plt.xlabel('RSDE 1')\n",
        "                plt.ylabel('RSDE 2')\n",
        "                plt.title('RSDE with 2 Components iter = '+ str(i+1))\n",
        "                plt.show()\n",
        "        \n",
        "        # Update M\n",
        "        M = np.dot(W.T, B)\n",
        "\n",
        "        # Update Q\n",
        "        AQ = np.dot(G.T, B)\n",
        "        LQ, qq, RQ = np.linalg.svd(AQ, full_matrices=False)\n",
        "        Q = np.dot(LQ, RQ)\n",
        "\n",
        "    return B, G, M\n",
        "\n",
        "def calculateG(F, H, a, BQ):\n",
        "    n, class_num = F.shape\n",
        "    T = np.zeros((n, class_num))\n",
        "\n",
        "    for i in range(class_num):\n",
        "        te = F - np.ones((n, 1)) * H[i, :]\n",
        "        aa = np.sum(te * te, axis=1)\n",
        "        T[:, i] = aa\n",
        "\n",
        "    T = T - a * 2 * BQ\n",
        "    idx = np.argmin(T, axis=1)\n",
        "    G1 = np.zeros((n, class_num))\n",
        "\n",
        "    for i in range(n):\n",
        "        G1[i, idx[i]] = 1\n",
        "\n",
        "    return G1"
      ]
    }
  ]
}